{
 "cells": [
  {
   "cell_type": "code",
   "execution_count": 4,
   "id": "01047305",
   "metadata": {},
   "outputs": [],
   "source": [
    "from pyDOE2 import *\n"
   ]
  },
  {
   "cell_type": "code",
   "execution_count": 5,
   "id": "d1b10ffc",
   "metadata": {},
   "outputs": [
    {
     "data": {
      "text/plain": [
       "array([[0., 0., 0.],\n",
       "       [1., 0., 0.],\n",
       "       [0., 1., 0.],\n",
       "       [1., 1., 0.],\n",
       "       [0., 2., 0.],\n",
       "       [1., 2., 0.],\n",
       "       [0., 3., 0.],\n",
       "       [1., 3., 0.],\n",
       "       [0., 0., 1.],\n",
       "       [1., 0., 1.],\n",
       "       [0., 1., 1.],\n",
       "       [1., 1., 1.],\n",
       "       [0., 2., 1.],\n",
       "       [1., 2., 1.],\n",
       "       [0., 3., 1.],\n",
       "       [1., 3., 1.],\n",
       "       [0., 0., 2.],\n",
       "       [1., 0., 2.],\n",
       "       [0., 1., 2.],\n",
       "       [1., 1., 2.],\n",
       "       [0., 2., 2.],\n",
       "       [1., 2., 2.],\n",
       "       [0., 3., 2.],\n",
       "       [1., 3., 2.]])"
      ]
     },
     "execution_count": 5,
     "metadata": {},
     "output_type": "execute_result"
    }
   ],
   "source": [
    "fullfact([2, 4, 3])"
   ]
  }
 ],
 "metadata": {
  "kernelspec": {
   "display_name": "doe",
   "language": "python",
   "name": "python3"
  },
  "language_info": {
   "codemirror_mode": {
    "name": "ipython",
    "version": 3
   },
   "file_extension": ".py",
   "mimetype": "text/x-python",
   "name": "python",
   "nbconvert_exporter": "python",
   "pygments_lexer": "ipython3",
   "version": "3.13.5"
  }
 },
 "nbformat": 4,
 "nbformat_minor": 5
}
