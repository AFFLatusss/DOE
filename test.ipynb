{
 "cells": [
  {
   "cell_type": "code",
   "execution_count": 39,
   "id": "01047305",
   "metadata": {},
   "outputs": [],
   "source": [
    "from pyDOE3 import *\n"
   ]
  },
  {
   "cell_type": "code",
   "execution_count": 12,
   "id": "d1b10ffc",
   "metadata": {},
   "outputs": [
    {
     "data": {
      "text/plain": [
       "array([[-1., -1.,  1.],\n",
       "       [ 1., -1., -1.],\n",
       "       [-1.,  1., -1.],\n",
       "       [ 1.,  1.,  1.]])"
      ]
     },
     "execution_count": 12,
     "metadata": {},
     "output_type": "execute_result"
    }
   ],
   "source": [
    "pbdesign(3)"
   ]
  },
  {
   "cell_type": "code",
   "execution_count": 26,
   "id": "382ae379",
   "metadata": {},
   "outputs": [
    {
     "ename": "TypeError",
     "evalue": "'float' object cannot be interpreted as an integer",
     "output_type": "error",
     "traceback": [
      "\u001b[31m---------------------------------------------------------------------------\u001b[39m",
      "\u001b[31mTypeError\u001b[39m                                 Traceback (most recent call last)",
      "\u001b[36mCell\u001b[39m\u001b[36m \u001b[39m\u001b[32mIn[26]\u001b[39m\u001b[32m, line 1\u001b[39m\n\u001b[32m----> \u001b[39m\u001b[32m1\u001b[39m \u001b[43mfracfact_opt\u001b[49m\u001b[43m(\u001b[49m\u001b[32;43m4\u001b[39;49m\u001b[43m,\u001b[49m\u001b[43m \u001b[49m\u001b[32;43m1\u001b[39;49m\u001b[43m)\u001b[49m\n",
      "\u001b[36mFile \u001b[39m\u001b[32me:\\conda\\envs\\doe\\Lib\\site-packages\\pyDOE2\\doe_factorial.py:405\u001b[39m, in \u001b[36mfracfact_opt\u001b[39m\u001b[34m(n_factors, n_erased, max_attempts)\u001b[39m\n\u001b[32m    401\u001b[39m n_main_factors = n_factors-n_erased\n\u001b[32m    402\u001b[39m n_aliases = \u001b[38;5;28msum\u001b[39m(( n_comb(n_main_factors, n)\n\u001b[32m    403\u001b[39m                   \u001b[38;5;28;01mfor\u001b[39;00m n \u001b[38;5;129;01min\u001b[39;00m \u001b[38;5;28mrange\u001b[39m(\u001b[32m2\u001b[39m, n_main_factors+\u001b[32m1\u001b[39m) ))\n\u001b[32m--> \u001b[39m\u001b[32m405\u001b[39m \u001b[38;5;28;01mif\u001b[39;00m n_erased>\u001b[43mn_comb\u001b[49m\u001b[43m(\u001b[49m\u001b[43mn_aliases\u001b[49m\u001b[43m,\u001b[49m\u001b[43m \u001b[49m\u001b[43mn_erased\u001b[49m\u001b[43m)\u001b[49m:\n\u001b[32m    406\u001b[39m     \u001b[38;5;28;01mraise\u001b[39;00m \u001b[38;5;167;01mValueError\u001b[39;00m(\u001b[33m'\u001b[39m\u001b[33mToo many erased factors to create aliasing\u001b[39m\u001b[33m'\u001b[39m)\n\u001b[32m    408\u001b[39m all_names = string.ascii_lowercase\n",
      "\u001b[36mFile \u001b[39m\u001b[32me:\\conda\\envs\\doe\\Lib\\site-packages\\pyDOE2\\doe_factorial.py:390\u001b[39m, in \u001b[36mfracfact_opt.<locals>.n_comb\u001b[39m\u001b[34m(n, k)\u001b[39m\n\u001b[32m    388\u001b[39m \u001b[38;5;28;01mdef\u001b[39;00m\u001b[38;5;250m \u001b[39m\u001b[34mn_comb\u001b[39m(n, k):\n\u001b[32m    389\u001b[39m     \u001b[38;5;28;01mif\u001b[39;00m k<=\u001b[32m0\u001b[39m \u001b[38;5;129;01mor\u001b[39;00m n<=\u001b[32m0\u001b[39m \u001b[38;5;129;01mor\u001b[39;00m k>n: \u001b[38;5;28;01mreturn\u001b[39;00m \u001b[32m0\u001b[39m\n\u001b[32m--> \u001b[39m\u001b[32m390\u001b[39m     \u001b[38;5;28;01mreturn\u001b[39;00m \u001b[43mmath\u001b[49m\u001b[43m.\u001b[49m\u001b[43mfactorial\u001b[49m\u001b[43m(\u001b[49m\u001b[43mn\u001b[49m\u001b[43m)\u001b[49m / (math.factorial(k) * math.factorial(n-k))\n",
      "\u001b[31mTypeError\u001b[39m: 'float' object cannot be interpreted as an integer"
     ]
    }
   ],
   "source": [
    "fracfact_opt(4, 1)"
   ]
  },
  {
   "cell_type": "code",
   "execution_count": 48,
   "id": "0453a5c1",
   "metadata": {},
   "outputs": [
    {
     "data": {
      "text/plain": [
       "array([[-1., -1., -1.,  1., -1., -1.],\n",
       "       [-1., -1.,  1.,  1.,  1.,  1.],\n",
       "       [-1.,  1., -1., -1., -1.,  1.],\n",
       "       [-1.,  1.,  1., -1.,  1., -1.],\n",
       "       [ 1., -1., -1., -1.,  1., -1.],\n",
       "       [ 1., -1.,  1., -1., -1.,  1.],\n",
       "       [ 1.,  1., -1.,  1.,  1.,  1.],\n",
       "       [ 1.,  1.,  1.,  1., -1., -1.]])"
      ]
     },
     "execution_count": 48,
     "metadata": {},
     "output_type": "execute_result"
    }
   ],
   "source": [
    "fracfact('a b c ab -ac -bc')"
   ]
  },
  {
   "cell_type": "code",
   "execution_count": 49,
   "id": "a611c5a0",
   "metadata": {},
   "outputs": [
    {
     "data": {
      "text/plain": [
       "array([[-1., -1.,  0.],\n",
       "       [-1.,  1.,  0.],\n",
       "       [ 1., -1.,  0.],\n",
       "       [ 1.,  1.,  0.],\n",
       "       [-1.,  0., -1.],\n",
       "       [-1.,  0.,  1.],\n",
       "       [ 1.,  0., -1.],\n",
       "       [ 1.,  0.,  1.],\n",
       "       [ 0., -1., -1.],\n",
       "       [ 0., -1.,  1.],\n",
       "       [ 0.,  1., -1.],\n",
       "       [ 0.,  1.,  1.],\n",
       "       [ 0.,  0.,  0.],\n",
       "       [ 0.,  0.,  0.],\n",
       "       [ 0.,  0.,  0.]])"
      ]
     },
     "execution_count": 49,
     "metadata": {},
     "output_type": "execute_result"
    }
   ],
   "source": [
    "bbdesign(3)"
   ]
  }
 ],
 "metadata": {
  "kernelspec": {
   "display_name": "doe",
   "language": "python",
   "name": "python3"
  },
  "language_info": {
   "codemirror_mode": {
    "name": "ipython",
    "version": 3
   },
   "file_extension": ".py",
   "mimetype": "text/x-python",
   "name": "python",
   "nbconvert_exporter": "python",
   "pygments_lexer": "ipython3",
   "version": "3.13.5"
  }
 },
 "nbformat": 4,
 "nbformat_minor": 5
}
